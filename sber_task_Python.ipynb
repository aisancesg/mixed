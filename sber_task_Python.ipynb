{
  "cells": [
    {
      "cell_type": "markdown",
      "metadata": {
        "id": "view-in-github",
        "colab_type": "text"
      },
      "source": [
        "<a href=\"https://colab.research.google.com/github/aisancesg/mixed/blob/main/sber_task_Python.ipynb\" target=\"_parent\"><img src=\"https://colab.research.google.com/assets/colab-badge.svg\" alt=\"Open In Colab\"/></a>"
      ]
    },
    {
      "cell_type": "markdown",
      "metadata": {
        "id": "zDyVhGGWh-Ne"
      },
      "source": [
        "Есть таблица с данными по кредитным линиям юридических лиц\n",
        "\n",
        "Для нас важны столбцы:\n",
        "- Отчётная дата\n",
        "- ID договора\n",
        "- Дата окончания периода доступности кредитного лимита\n",
        "- Дата окончательного погашения кредитной линии\n",
        "    \n",
        "Требуется:\n",
        "1. Отфильтровать из таблицы сделки, для которых период доступности кредитного лимита изменяется;\n",
        "2. Для тех сделок, у которых он отсутствует, проставить его самой первой датой окончательного погашения для каждой кредитной линии."
      ]
    },
    {
      "cell_type": "code",
      "execution_count": null,
      "metadata": {
        "id": "W46PaOvOh-Np"
      },
      "outputs": [],
      "source": [
        "import numpy as np\n",
        "import pandas as pd"
      ]
    },
    {
      "cell_type": "code",
      "execution_count": null,
      "metadata": {
        "id": "eYI29CcJh-Ns",
        "outputId": "32ab076e-5fb1-404f-ccbc-28ac5ad28da9"
      },
      "outputs": [
        {
          "name": "stdout",
          "output_type": "stream",
          "text": [
            "<class 'pandas.core.frame.DataFrame'>\n",
            "RangeIndex: 6 entries, 0 to 5\n",
            "Data columns (total 4 columns):\n",
            " #   Column             Non-Null Count  Dtype         \n",
            "---  ------             --------------  -----         \n",
            " 0   ReportDate         6 non-null      datetime64[ns]\n",
            " 1   AgreementID        6 non-null      int64         \n",
            " 2   DrawPeriodEndDate  4 non-null      datetime64[ns]\n",
            " 3   MaturityDate       6 non-null      datetime64[ns]\n",
            "dtypes: datetime64[ns](3), int64(1)\n",
            "memory usage: 324.0 bytes\n",
            "None\n"
          ]
        },
        {
          "name": "stderr",
          "output_type": "stream",
          "text": [
            "C:\\Users\\User\\AppData\\Local\\Temp\\ipykernel_17532\\1839212241.py:3: UserWarning: Parsing dates in %d.%m.%Y format when dayfirst=False (the default) was specified. Pass `dayfirst=True` or specify a format to silence this warning.\n",
            "  df[column] = pd.to_datetime(df[column])\n",
            "C:\\Users\\User\\AppData\\Local\\Temp\\ipykernel_17532\\1839212241.py:3: UserWarning: Parsing dates in %d.%m.%Y format when dayfirst=False (the default) was specified. Pass `dayfirst=True` or specify a format to silence this warning.\n",
            "  df[column] = pd.to_datetime(df[column])\n",
            "C:\\Users\\User\\AppData\\Local\\Temp\\ipykernel_17532\\1839212241.py:3: UserWarning: Parsing dates in %d.%m.%Y format when dayfirst=False (the default) was specified. Pass `dayfirst=True` or specify a format to silence this warning.\n",
            "  df[column] = pd.to_datetime(df[column])\n"
          ]
        },
        {
          "data": {
            "text/html": [
              "<div>\n",
              "<style scoped>\n",
              "    .dataframe tbody tr th:only-of-type {\n",
              "        vertical-align: middle;\n",
              "    }\n",
              "\n",
              "    .dataframe tbody tr th {\n",
              "        vertical-align: top;\n",
              "    }\n",
              "\n",
              "    .dataframe thead th {\n",
              "        text-align: right;\n",
              "    }\n",
              "</style>\n",
              "<table border=\"1\" class=\"dataframe\">\n",
              "  <thead>\n",
              "    <tr style=\"text-align: right;\">\n",
              "      <th></th>\n",
              "      <th>ReportDate</th>\n",
              "      <th>AgreementID</th>\n",
              "      <th>DrawPeriodEndDate</th>\n",
              "      <th>MaturityDate</th>\n",
              "    </tr>\n",
              "  </thead>\n",
              "  <tbody>\n",
              "    <tr>\n",
              "      <th>0</th>\n",
              "      <td>2020-01-31</td>\n",
              "      <td>1</td>\n",
              "      <td>2020-06-30</td>\n",
              "      <td>2020-12-31</td>\n",
              "    </tr>\n",
              "    <tr>\n",
              "      <th>1</th>\n",
              "      <td>2020-02-29</td>\n",
              "      <td>1</td>\n",
              "      <td>2020-12-31</td>\n",
              "      <td>2020-12-31</td>\n",
              "    </tr>\n",
              "    <tr>\n",
              "      <th>2</th>\n",
              "      <td>2020-01-31</td>\n",
              "      <td>2</td>\n",
              "      <td>NaT</td>\n",
              "      <td>2020-11-30</td>\n",
              "    </tr>\n",
              "    <tr>\n",
              "      <th>3</th>\n",
              "      <td>2020-02-29</td>\n",
              "      <td>2</td>\n",
              "      <td>NaT</td>\n",
              "      <td>2020-12-31</td>\n",
              "    </tr>\n",
              "    <tr>\n",
              "      <th>4</th>\n",
              "      <td>2020-01-31</td>\n",
              "      <td>3</td>\n",
              "      <td>2020-08-31</td>\n",
              "      <td>2020-12-31</td>\n",
              "    </tr>\n",
              "    <tr>\n",
              "      <th>5</th>\n",
              "      <td>2020-02-29</td>\n",
              "      <td>3</td>\n",
              "      <td>2020-08-31</td>\n",
              "      <td>2020-12-31</td>\n",
              "    </tr>\n",
              "  </tbody>\n",
              "</table>\n",
              "</div>"
            ],
            "text/plain": [
              "  ReportDate  AgreementID DrawPeriodEndDate MaturityDate\n",
              "0 2020-01-31            1        2020-06-30   2020-12-31\n",
              "1 2020-02-29            1        2020-12-31   2020-12-31\n",
              "2 2020-01-31            2               NaT   2020-11-30\n",
              "3 2020-02-29            2               NaT   2020-12-31\n",
              "4 2020-01-31            3        2020-08-31   2020-12-31\n",
              "5 2020-02-29            3        2020-08-31   2020-12-31"
            ]
          },
          "execution_count": 3,
          "metadata": {},
          "output_type": "execute_result"
        }
      ],
      "source": [
        "df = pd.read_csv('Для задачи по Python.csv', sep = ';')\n",
        "for column in ['ReportDate', 'DrawPeriodEndDate', 'MaturityDate'] :\n",
        "    df[column] = pd.to_datetime(df[column])\n",
        "print(df.info(verbose = True))\n",
        "df"
      ]
    },
    {
      "cell_type": "markdown",
      "metadata": {
        "id": "oD6kN0Bzh-Nu"
      },
      "source": [
        "**1. Удалить сделки с меняющимся признаком DrawPeriodEndDate**"
      ]
    },
    {
      "cell_type": "code",
      "execution_count": null,
      "metadata": {
        "id": "NMabzOVah-Nv",
        "outputId": "e34b3590-57e8-4d67-d1c3-0ffaf34ac788"
      },
      "outputs": [
        {
          "data": {
            "text/html": [
              "<div>\n",
              "<style scoped>\n",
              "    .dataframe tbody tr th:only-of-type {\n",
              "        vertical-align: middle;\n",
              "    }\n",
              "\n",
              "    .dataframe tbody tr th {\n",
              "        vertical-align: top;\n",
              "    }\n",
              "\n",
              "    .dataframe thead th {\n",
              "        text-align: right;\n",
              "    }\n",
              "</style>\n",
              "<table border=\"1\" class=\"dataframe\">\n",
              "  <thead>\n",
              "    <tr style=\"text-align: right;\">\n",
              "      <th></th>\n",
              "      <th>ReportDate</th>\n",
              "      <th>AgreementID</th>\n",
              "      <th>DrawPeriodEndDate</th>\n",
              "      <th>MaturityDate</th>\n",
              "    </tr>\n",
              "  </thead>\n",
              "  <tbody>\n",
              "    <tr>\n",
              "      <th>2</th>\n",
              "      <td>2020-01-31</td>\n",
              "      <td>2</td>\n",
              "      <td>NaT</td>\n",
              "      <td>2020-11-30</td>\n",
              "    </tr>\n",
              "    <tr>\n",
              "      <th>3</th>\n",
              "      <td>2020-02-29</td>\n",
              "      <td>2</td>\n",
              "      <td>NaT</td>\n",
              "      <td>2020-12-31</td>\n",
              "    </tr>\n",
              "    <tr>\n",
              "      <th>4</th>\n",
              "      <td>2020-01-31</td>\n",
              "      <td>3</td>\n",
              "      <td>2020-08-31</td>\n",
              "      <td>2020-12-31</td>\n",
              "    </tr>\n",
              "    <tr>\n",
              "      <th>5</th>\n",
              "      <td>2020-02-29</td>\n",
              "      <td>3</td>\n",
              "      <td>2020-08-31</td>\n",
              "      <td>2020-12-31</td>\n",
              "    </tr>\n",
              "  </tbody>\n",
              "</table>\n",
              "</div>"
            ],
            "text/plain": [
              "  ReportDate  AgreementID DrawPeriodEndDate MaturityDate\n",
              "2 2020-01-31            2               NaT   2020-11-30\n",
              "3 2020-02-29            2               NaT   2020-12-31\n",
              "4 2020-01-31            3        2020-08-31   2020-12-31\n",
              "5 2020-02-29            3        2020-08-31   2020-12-31"
            ]
          },
          "execution_count": 4,
          "metadata": {},
          "output_type": "execute_result"
        }
      ],
      "source": [
        "condition=df.groupby('AgreementID', as_index=False)\\\n",
        "    .nunique()\\\n",
        "    .rename(columns={'DrawPeriodEndDate' :'count_unique_DrawPeriodEndDate'})\\\n",
        "    .query('count_unique_DrawPeriodEndDate < 2')\n",
        "df_1=df[df.AgreementID.isin(condition.AgreementID)]\n",
        "df_1"
      ]
    },
    {
      "cell_type": "markdown",
      "metadata": {
        "id": "bSmuu-Ymh-Ny"
      },
      "source": [
        "**2. Для сделок с отсутствующим признаком DrawPeriodEndDate установить для него первое по времени значение MaturityDate**"
      ]
    },
    {
      "cell_type": "code",
      "execution_count": null,
      "metadata": {
        "id": "0xEo0dKdh-Nz"
      },
      "outputs": [],
      "source": [
        "df_1.loc[df_1['DrawPeriodEndDate'].isnull(), 'DrawPeriodEndDate'] = df_1.groupby('AgreementID')['MaturityDate'].transform('min')"
      ]
    },
    {
      "cell_type": "code",
      "execution_count": null,
      "metadata": {
        "id": "UN5PZ1aNh-N1",
        "outputId": "9fe106be-c38d-42fe-bf47-c1317d5c8fc6"
      },
      "outputs": [
        {
          "data": {
            "text/html": [
              "<div>\n",
              "<style scoped>\n",
              "    .dataframe tbody tr th:only-of-type {\n",
              "        vertical-align: middle;\n",
              "    }\n",
              "\n",
              "    .dataframe tbody tr th {\n",
              "        vertical-align: top;\n",
              "    }\n",
              "\n",
              "    .dataframe thead th {\n",
              "        text-align: right;\n",
              "    }\n",
              "</style>\n",
              "<table border=\"1\" class=\"dataframe\">\n",
              "  <thead>\n",
              "    <tr style=\"text-align: right;\">\n",
              "      <th></th>\n",
              "      <th>ReportDate</th>\n",
              "      <th>AgreementID</th>\n",
              "      <th>DrawPeriodEndDate</th>\n",
              "      <th>MaturityDate</th>\n",
              "    </tr>\n",
              "  </thead>\n",
              "  <tbody>\n",
              "    <tr>\n",
              "      <th>2</th>\n",
              "      <td>2020-01-31</td>\n",
              "      <td>2</td>\n",
              "      <td>2020-11-30</td>\n",
              "      <td>2020-11-30</td>\n",
              "    </tr>\n",
              "    <tr>\n",
              "      <th>3</th>\n",
              "      <td>2020-02-29</td>\n",
              "      <td>2</td>\n",
              "      <td>2020-11-30</td>\n",
              "      <td>2020-12-31</td>\n",
              "    </tr>\n",
              "    <tr>\n",
              "      <th>4</th>\n",
              "      <td>2020-01-31</td>\n",
              "      <td>3</td>\n",
              "      <td>2020-08-31</td>\n",
              "      <td>2020-12-31</td>\n",
              "    </tr>\n",
              "    <tr>\n",
              "      <th>5</th>\n",
              "      <td>2020-02-29</td>\n",
              "      <td>3</td>\n",
              "      <td>2020-08-31</td>\n",
              "      <td>2020-12-31</td>\n",
              "    </tr>\n",
              "  </tbody>\n",
              "</table>\n",
              "</div>"
            ],
            "text/plain": [
              "  ReportDate  AgreementID DrawPeriodEndDate MaturityDate\n",
              "2 2020-01-31            2        2020-11-30   2020-11-30\n",
              "3 2020-02-29            2        2020-11-30   2020-12-31\n",
              "4 2020-01-31            3        2020-08-31   2020-12-31\n",
              "5 2020-02-29            3        2020-08-31   2020-12-31"
            ]
          },
          "execution_count": 6,
          "metadata": {},
          "output_type": "execute_result"
        }
      ],
      "source": [
        "df_1"
      ]
    },
    {
      "cell_type": "code",
      "execution_count": null,
      "metadata": {
        "id": "pjbyLB8_h-N3"
      },
      "outputs": [],
      "source": []
    }
  ],
  "metadata": {
    "kernelspec": {
      "display_name": "Python 3 (ipykernel)",
      "language": "python",
      "name": "python3"
    },
    "language_info": {
      "codemirror_mode": {
        "name": "ipython",
        "version": 3
      },
      "file_extension": ".py",
      "mimetype": "text/x-python",
      "name": "python",
      "nbconvert_exporter": "python",
      "pygments_lexer": "ipython3",
      "version": "3.11.3"
    },
    "toc": {
      "base_numbering": 1,
      "nav_menu": {},
      "number_sections": false,
      "sideBar": true,
      "skip_h1_title": false,
      "title_cell": "Table of Contents",
      "title_sidebar": "Contents",
      "toc_cell": false,
      "toc_position": {},
      "toc_section_display": true,
      "toc_window_display": false
    },
    "colab": {
      "provenance": [],
      "include_colab_link": true
    }
  },
  "nbformat": 4,
  "nbformat_minor": 0
}